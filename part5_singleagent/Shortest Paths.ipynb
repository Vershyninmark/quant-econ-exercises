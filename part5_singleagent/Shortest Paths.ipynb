{
 "cells": [
  {
   "cell_type": "code",
   "execution_count": 1,
   "metadata": {
    "collapsed": true
   },
   "outputs": [],
   "source": [
    "import re\n",
    "import numpy as np\n",
    "import networkx as nx\n",
    "import matplotlib.pyplot as plt\n",
    "import itertools\n",
    "from math import inf"
   ]
  },
  {
   "cell_type": "markdown",
   "metadata": {},
   "source": [
    "# My Solution to Exercise 1"
   ]
  },
  {
   "cell_type": "code",
   "execution_count": 27,
   "metadata": {},
   "outputs": [],
   "source": [
    "def obtain_graph(source = 'graph.txt'):\n",
    "    with open(source, 'r') as f:\n",
    "        data = f.read().splitlines()\n",
    "    \n",
    "    nodes = {}\n",
    "    G_nodes = {}\n",
    "    for idx, line in enumerate(data):\n",
    "        node = re.search(r'node%s' % int(idx), line).group()\n",
    "        vals = re.findall(r'node\\d+\\s\\d+\\.{,1}\\d+', line)\n",
    "        nodes[node] = [(entry.split(' ')[0], float(entry.split(' ')[1])) for entry in vals]\n",
    "        G_nodes[node] = {n: {'weight': w} for n,w in nodes[node]}\n",
    "    \n",
    "    return nx.DiGraph(G_nodes)\n",
    "        \n",
    "def draw_graph(graph, lbl=True, arr=False):\n",
    "    nx.draw(graph, with_labels=lbl, arrows=arr)\n",
    "    plt.show()\n",
    "\n",
    "def get_shortest_path(graph, start, end):\n",
    "    paths = {}\n",
    "    distances = {}\n",
    "    nodes = graph.nodes()\n",
    "    edges = nx.to_dict_of_dicts(graph)\n",
    "\n",
    "    for node in nodes:\n",
    "        distances[node] = inf\n",
    "\n",
    "    distances[start] = 0\n",
    "\n",
    "    for i in range(len(nodes) - 1):\n",
    "        updates = 0    \n",
    "        for unode in nodes:\n",
    "            for vnode, weight in edges[unode].items():\n",
    "                temp_dist = weight['weight'] + distances[unode]\n",
    "                if temp_dist < distances[vnode]:\n",
    "                    distances[vnode] = temp_dist\n",
    "                    paths[vnode] = unode\n",
    "                    updates += 1\n",
    "        if updates == 0:\n",
    "            break                    \n",
    "                \n",
    "    current = end\n",
    "    path = [current]\n",
    "\n",
    "    while current != start:\n",
    "        current = paths[current]\n",
    "        path.append(current)\n",
    "    \n",
    "    return distances[end], path[::-1]"
   ]
  },
  {
   "cell_type": "code",
   "execution_count": 28,
   "metadata": {
    "collapsed": true
   },
   "outputs": [],
   "source": [
    "txt = 'graph.txt'\n",
    "G = obtain_graph(txt)"
   ]
  },
  {
   "cell_type": "code",
   "execution_count": 32,
   "metadata": {
    "collapsed": true
   },
   "outputs": [],
   "source": [
    "cost, path = get_shortest_path(G, 'node0', 'node99')"
   ]
  }
 ],
 "metadata": {
  "kernelspec": {
   "display_name": "Python [conda env:python3]",
   "language": "python",
   "name": "conda-env-python3-py"
  },
  "language_info": {
   "codemirror_mode": {
    "name": "ipython",
    "version": 3
   },
   "file_extension": ".py",
   "mimetype": "text/x-python",
   "name": "python",
   "nbconvert_exporter": "python",
   "pygments_lexer": "ipython3",
   "version": "3.6.1"
  }
 },
 "nbformat": 4,
 "nbformat_minor": 2
}
