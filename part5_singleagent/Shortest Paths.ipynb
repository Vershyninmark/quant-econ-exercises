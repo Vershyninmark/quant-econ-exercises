{
 "cells": [
  {
   "cell_type": "code",
   "execution_count": 121,
   "metadata": {
    "collapsed": true
   },
   "outputs": [],
   "source": [
    "import re\n",
    "import numpy as np\n",
    "import networkx as nx\n",
    "import matplotlib.pyplot as plt\n",
    "import itertools\n",
    "from math import inf"
   ]
  },
  {
   "cell_type": "markdown",
   "metadata": {},
   "source": [
    "# My Solution to Exercise 1"
   ]
  },
  {
   "cell_type": "code",
   "execution_count": 85,
   "metadata": {},
   "outputs": [],
   "source": [
    "def obtain_graph(source = 'graph.txt', dtype = 'dict'):\n",
    "    with open(source, 'r') as f:\n",
    "        data = f.read().splitlines()\n",
    "    \n",
    "    nodes = {}\n",
    "    G_nodes = {}\n",
    "    for idx, line in enumerate(data):\n",
    "        node = re.search(r'node%s' % int(idx), line).group()\n",
    "        vals = re.findall(r'node\\d+\\s\\d+\\.{,1}\\d+', line)\n",
    "        nodes[node] = [(entry.split(' ')[0], float(entry.split(' ')[1])) for entry in vals]\n",
    "        G_nodes[node] = {n: {'weight': w} for n,w in nodes[node]}\n",
    "    \n",
    "    if dtype == 'dict':\n",
    "        return nodes\n",
    "    elif dtype == 'DiGraph':\n",
    "        return nx.DiGraph(G_nodes)\n",
    "    else:\n",
    "        raise ValueError('Return data type unsupported')\n",
    "        \n",
    "def draw_graph(G, lbl=True, arr=False):\n",
    "    nx.draw(G, with_labels=lbl, arrows=arr)\n",
    "    plt.show()"
   ]
  },
  {
   "cell_type": "code",
   "execution_count": 120,
   "metadata": {
    "collapsed": true
   },
   "outputs": [],
   "source": [
    "txt = 'graph.txt'\n",
    "graph_dict = obtain_graph(txt, 'dict')\n",
    "G = obtain_graph(txt, 'DiGraph')\n",
    "paths = nx.all_simple_paths(G, 'node0', 'node99')"
   ]
  },
  {
   "cell_type": "code",
   "execution_count": 101,
   "metadata": {
    "collapsed": true
   },
   "outputs": [],
   "source": [
    "target = nx.bellman_ford(G, 'node0')[1]['node99']"
   ]
  },
  {
   "cell_type": "code",
   "execution_count": 167,
   "metadata": {},
   "outputs": [],
   "source": [
    "paths = {}\n",
    "distances = {}\n",
    "nodes = G.nodes()\n",
    "edges = nx.to_dict_of_dicts(G)\n",
    "max_links = len(nodes) - 1\n",
    "s = 'node0'\n",
    "\n",
    "for node in nodes:\n",
    "    distances[node] = 10000\n",
    "        \n",
    "distances[s] = 0\n",
    "\n",
    "for unode in nodes:\n",
    "    for vnode, weight in edges[unode].items():\n",
    "        temp_dist = weight['weight'] + distances[unode]\n",
    "        if temp_dist < distances[vnode]:\n",
    "            distances[vnode] = temp_dist\n",
    "            paths[vnode] = unode"
   ]
  },
  {
   "cell_type": "code",
   "execution_count": 168,
   "metadata": {},
   "outputs": [
    {
     "data": {
      "text/plain": [
       "160.55000000000007"
      ]
     },
     "execution_count": 168,
     "metadata": {},
     "output_type": "execute_result"
    }
   ],
   "source": [
    "distances['node99']"
   ]
  },
  {
   "cell_type": "code",
   "execution_count": 178,
   "metadata": {},
   "outputs": [],
   "source": [
    "current = 'node99'\n",
    "path = [current]\n",
    "\n",
    "while current != 'node0':\n",
    "    current = paths[current]\n",
    "    path.append(current)"
   ]
  },
  {
   "cell_type": "code",
   "execution_count": 180,
   "metadata": {},
   "outputs": [],
   "source": [
    "path = reversed(path)"
   ]
  },
  {
   "cell_type": "code",
   "execution_count": 182,
   "metadata": {},
   "outputs": [
    {
     "data": {
      "text/plain": [
       "['node0',\n",
       " 'node8',\n",
       " 'node11',\n",
       " 'node18',\n",
       " 'node23',\n",
       " 'node33',\n",
       " 'node41',\n",
       " 'node53',\n",
       " 'node56',\n",
       " 'node57',\n",
       " 'node60',\n",
       " 'node67',\n",
       " 'node70',\n",
       " 'node73',\n",
       " 'node76',\n",
       " 'node85',\n",
       " 'node87',\n",
       " 'node88',\n",
       " 'node93',\n",
       " 'node94',\n",
       " 'node96',\n",
       " 'node97',\n",
       " 'node98',\n",
       " 'node99']"
      ]
     },
     "execution_count": 182,
     "metadata": {},
     "output_type": "execute_result"
    }
   ],
   "source": [
    "list(path)"
   ]
  }
 ],
 "metadata": {
  "kernelspec": {
   "display_name": "Python [conda env:python3]",
   "language": "python",
   "name": "conda-env-python3-py"
  }
 },
 "nbformat": 4,
 "nbformat_minor": 2
}
