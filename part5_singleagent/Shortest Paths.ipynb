{
 "cells": [
  {
   "cell_type": "code",
   "execution_count": 121,
   "metadata": {
    "collapsed": true
   },
   "outputs": [],
   "source": [
    "import re\n",
    "import numpy as np\n",
    "import networkx as nx\n",
    "import matplotlib.pyplot as plt\n",
    "import itertools\n",
    "from math import inf"
   ]
  },
  {
   "cell_type": "markdown",
   "metadata": {},
   "source": [
    "# My Solution to Exercise 1"
   ]
  },
  {
   "cell_type": "code",
   "execution_count": 85,
   "metadata": {},
   "outputs": [],
   "source": [
    "def obtain_graph(source = 'graph.txt', dtype = 'dict'):\n",
    "    with open(source, 'r') as f:\n",
    "        data = f.read().splitlines()\n",
    "    \n",
    "    nodes = {}\n",
    "    G_nodes = {}\n",
    "    for idx, line in enumerate(data):\n",
    "        node = re.search(r'node%s' % int(idx), line).group()\n",
    "        vals = re.findall(r'node\\d+\\s\\d+\\.{,1}\\d+', line)\n",
    "        nodes[node] = [(entry.split(' ')[0], float(entry.split(' ')[1])) for entry in vals]\n",
    "        G_nodes[node] = {n: {'weight': w} for n,w in nodes[node]}\n",
    "    \n",
    "    if dtype == 'dict':\n",
    "        return nodes\n",
    "    elif dtype == 'DiGraph':\n",
    "        return nx.DiGraph(G_nodes)\n",
    "    else:\n",
    "        raise ValueError('Return data type unsupported')\n",
    "        \n",
    "def draw_graph(G, lbl=True, arr=False):\n",
    "    nx.draw(G, with_labels=lbl, arrows=arr)\n",
    "    plt.show()"
   ]
  },
  {
   "cell_type": "code",
   "execution_count": 120,
   "metadata": {
    "collapsed": true
   },
   "outputs": [],
   "source": [
    "txt = 'graph.txt'\n",
    "graph_dict = obtain_graph(txt, 'dict')\n",
    "G = obtain_graph(txt, 'DiGraph')\n",
    "paths = nx.all_simple_paths(G, 'node0', 'node99')"
   ]
  },
  {
   "cell_type": "code",
   "execution_count": 101,
   "metadata": {
    "collapsed": true
   },
   "outputs": [],
   "source": [
    "target = nx.bellman_ford(G, 'node0')[1]['node99']"
   ]
  },
  {
   "cell_type": "code",
   "execution_count": 153,
   "metadata": {},
   "outputs": [],
   "source": [
    "distances = {}\n",
    "nodes = G.nodes()\n",
    "edges = nx.to_dict_of_dicts(G)\n",
    "max_links = len(nodes) - 1\n",
    "s = 'node0'\n",
    "\n",
    "for node in nodes:\n",
    "    distances[node] = 10000\n",
    "        \n",
    "distances[s] = 0\n",
    "\n",
    "for unode in nodes:\n",
    "    for vnode, weight in edges[unode].items():\n",
    "        distances[vnode] = min(weight['weight'] + distances[unode], distances[vnode])"
   ]
  },
  {
   "cell_type": "code",
   "execution_count": 154,
   "metadata": {},
   "outputs": [
    {
     "data": {
      "text/plain": [
       "160.55000000000007"
      ]
     },
     "execution_count": 154,
     "metadata": {},
     "output_type": "execute_result"
    }
   ],
   "source": [
    "distances['node99']"
   ]
  },
  {
   "cell_type": "code",
   "execution_count": 146,
   "metadata": {},
   "outputs": [
    {
     "name": "stdout",
     "output_type": "stream",
     "text": [
      "node1\n",
      "0.04\n",
      "node8\n",
      "11.11\n",
      "node14\n",
      "72.21\n"
     ]
    }
   ],
   "source": [
    "for key,weight in edges['node0'].items():\n",
    "    print(key)\n",
    "    print(weight['weight'])"
   ]
  },
  {
   "cell_type": "code",
   "execution_count": 103,
   "metadata": {
    "collapsed": true
   },
   "outputs": [],
   "source": [
    "# dumb algo\n",
    "n = 0\n",
    "current = 'node0'\n",
    "dest = 'node99'\n",
    "total_cost = 0\n",
    "path = [current]\n",
    "J = []\n",
    "if current != dest:\n",
    "    J.append(10000)\n",
    "while True:\n",
    "    if current == dest:\n",
    "        cost = 0\n",
    "        total_cost += 0\n",
    "        break\n",
    "    else:\n",
    "        keys = [key for key, val in graph_dict[current]]\n",
    "        vals = [val for key, val in graph_dict[current]]\n",
    "        costs = np.asarray(vals)\n",
    "        total_cost += costs.min()\n",
    "        current = keys[costs.argmin()]\n",
    "        path.append(current)"
   ]
  },
  {
   "cell_type": "code",
   "execution_count": 104,
   "metadata": {},
   "outputs": [
    {
     "data": {
      "text/plain": [
       "(427.10000000000002,\n",
       " ['node0',\n",
       "  'node1',\n",
       "  'node6',\n",
       "  'node9',\n",
       "  'node13',\n",
       "  'node38',\n",
       "  'node40',\n",
       "  'node47',\n",
       "  'node50',\n",
       "  'node53',\n",
       "  'node56',\n",
       "  'node57',\n",
       "  'node58',\n",
       "  'node64',\n",
       "  'node65',\n",
       "  'node66',\n",
       "  'node68',\n",
       "  'node71',\n",
       "  'node74',\n",
       "  'node76',\n",
       "  'node77',\n",
       "  'node78',\n",
       "  'node81',\n",
       "  'node89',\n",
       "  'node97',\n",
       "  'node98',\n",
       "  'node99'])"
      ]
     },
     "execution_count": 104,
     "metadata": {},
     "output_type": "execute_result"
    }
   ],
   "source": [
    "total_cost, path"
   ]
  }
 ],
 "metadata": {
  "kernelspec": {
   "display_name": "Python [conda env:python3]",
   "language": "python",
   "name": "conda-env-python3-py"
  }
 },
 "nbformat": 4,
 "nbformat_minor": 2
}
