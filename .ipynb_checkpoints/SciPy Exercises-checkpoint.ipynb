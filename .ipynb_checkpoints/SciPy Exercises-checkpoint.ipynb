{
 "cells": [
  {
   "cell_type": "code",
   "execution_count": 5,
   "metadata": {
    "collapsed": true
   },
   "outputs": [],
   "source": [
    "import numpy as np"
   ]
  },
  {
   "cell_type": "markdown",
   "metadata": {},
   "source": [
    "# My Solution to Exercise 1"
   ]
  },
  {
   "cell_type": "markdown",
   "metadata": {},
   "source": [
    "Reference to previous bisection method:"
   ]
  },
  {
   "cell_type": "code",
   "execution_count": 13,
   "metadata": {
    "collapsed": true
   },
   "outputs": [],
   "source": [
    "def bisect(f, a, b, tol=10e-5):\n",
    "    \"\"\"\n",
    "    Implements the bisection root finding algorithm, assuming that f is a\n",
    "    real-valued function on [a, b] satisfying f(a) < 0 < f(b).\n",
    "    \"\"\"\n",
    "    lower, upper = a, b\n",
    "\n",
    "    while upper - lower > tol:\n",
    "        middle = 0.5 * (upper + lower)\n",
    "        # === if root is between lower and middle === #\n",
    "        if f(middle) > 0:  \n",
    "            lower, upper = lower, middle\n",
    "        # === if root is between middle and upper  === #\n",
    "        else:              \n",
    "            lower, upper = middle, upper\n",
    "    \n",
    "    return 0.5 * (upper + lower)"
   ]
  },
  {
   "cell_type": "code",
   "execution_count": 14,
   "metadata": {
    "collapsed": true
   },
   "outputs": [],
   "source": [
    "f = lambda x: np.sin(4 * (x - 0.25)) + x + x**20 - 1 "
   ]
  },
  {
   "cell_type": "code",
   "execution_count": 15,
   "metadata": {},
   "outputs": [
    {
     "name": "stdout",
     "output_type": "stream",
     "text": [
      "0.408294677734375 \n",
      "\n",
      "10000 loops, best of 3: 24 µs per loop\n"
     ]
    }
   ],
   "source": [
    "print(bisect(f,0,1), \"\\n\")\n",
    "%timeit bisect(f,0,1)"
   ]
  },
  {
   "cell_type": "markdown",
   "metadata": {},
   "source": [
    "My solution"
   ]
  },
  {
   "cell_type": "code",
   "execution_count": 51,
   "metadata": {},
   "outputs": [],
   "source": [
    "def rec_bisect(f, a, b, tol=10e-5,i=0):\n",
    "    \"\"\"\n",
    "    Implements the bisection root finding algorithm, assuming that f is a\n",
    "    real-valued function on [a, b] satisfying f(a) < 0 < f(b).\n",
    "    \"\"\"\n",
    "    lower, upper = a, b\n",
    "    middle = 0.5 * (upper + lower)\n",
    "    solution = None\n",
    "    print('Iteration: {}\\nLower: {}\\nUpper: {}\\nMiddle: {}\\n'.format(i,lower,upper,middle))\n",
    "    \n",
    "    if upper - lower < tol:\n",
    "        return middle\n",
    "    else:\n",
    "        # === if root is between lower and middle === #\n",
    "        if f(middle) > 0:\n",
    "            i+=1\n",
    "            solution = rec_bisect(f, lower, middle, tol, i)\n",
    "        # === if root is between middle and upper  === #\n",
    "        else:              \n",
    "            i+=1\n",
    "            solution = rec_bisect(f, middle, upper, tol,i)\n",
    "        return solution"
   ]
  },
  {
   "cell_type": "code",
   "execution_count": 52,
   "metadata": {},
   "outputs": [
    {
     "name": "stdout",
     "output_type": "stream",
     "text": [
      "Iteration: 0\n",
      "Lower: 0\n",
      "Upper: 1\n",
      "Middle: 0.5\n",
      "\n",
      "Iteration: 1\n",
      "Lower: 0\n",
      "Upper: 0.5\n",
      "Middle: 0.25\n",
      "\n",
      "Iteration: 2\n",
      "Lower: 0.25\n",
      "Upper: 0.5\n",
      "Middle: 0.375\n",
      "\n",
      "Iteration: 3\n",
      "Lower: 0.375\n",
      "Upper: 0.5\n",
      "Middle: 0.4375\n",
      "\n",
      "Iteration: 4\n",
      "Lower: 0.375\n",
      "Upper: 0.4375\n",
      "Middle: 0.40625\n",
      "\n",
      "Iteration: 5\n",
      "Lower: 0.40625\n",
      "Upper: 0.4375\n",
      "Middle: 0.421875\n",
      "\n",
      "Iteration: 6\n",
      "Lower: 0.40625\n",
      "Upper: 0.421875\n",
      "Middle: 0.4140625\n",
      "\n",
      "Iteration: 7\n",
      "Lower: 0.40625\n",
      "Upper: 0.4140625\n",
      "Middle: 0.41015625\n",
      "\n",
      "Iteration: 8\n",
      "Lower: 0.40625\n",
      "Upper: 0.41015625\n",
      "Middle: 0.408203125\n",
      "\n",
      "Iteration: 9\n",
      "Lower: 0.408203125\n",
      "Upper: 0.41015625\n",
      "Middle: 0.4091796875\n",
      "\n",
      "Iteration: 10\n",
      "Lower: 0.408203125\n",
      "Upper: 0.4091796875\n",
      "Middle: 0.40869140625\n",
      "\n",
      "Iteration: 11\n",
      "Lower: 0.408203125\n",
      "Upper: 0.40869140625\n",
      "Middle: 0.408447265625\n",
      "\n",
      "Iteration: 12\n",
      "Lower: 0.408203125\n",
      "Upper: 0.408447265625\n",
      "Middle: 0.4083251953125\n",
      "\n",
      "Iteration: 13\n",
      "Lower: 0.408203125\n",
      "Upper: 0.4083251953125\n",
      "Middle: 0.40826416015625\n",
      "\n",
      "Iteration: 14\n",
      "Lower: 0.40826416015625\n",
      "Upper: 0.4083251953125\n",
      "Middle: 0.408294677734375\n",
      "\n",
      "0.408294677734375 \n",
      "\n"
     ]
    }
   ],
   "source": [
    "print(rec_bisect(f,0,1), \"\\n\")"
   ]
  },
  {
   "cell_type": "code",
   "execution_count": 48,
   "metadata": {},
   "outputs": [
    {
     "name": "stdout",
     "output_type": "stream",
     "text": [
      "10000 loops, best of 3: 28.9 µs per loop\n"
     ]
    }
   ],
   "source": [
    "%timeit rec_bisect(f,0,1)"
   ]
  },
  {
   "cell_type": "markdown",
   "metadata": {},
   "source": [
    "# Text Solution to Exercise 1"
   ]
  },
  {
   "cell_type": "code",
   "execution_count": 49,
   "metadata": {
    "collapsed": true
   },
   "outputs": [],
   "source": [
    "def bisect(f, a, b, tol=10e-5):\n",
    "    \"\"\"\n",
    "    Implements the bisection root finding algorithm, assuming that f is a\n",
    "    real-valued function on [a, b] satisfying f(a) < 0 < f(b).\n",
    "    \"\"\"\n",
    "    lower, upper = a, b\n",
    "    if upper - lower < tol:\n",
    "        return 0.5 * (upper + lower)\n",
    "    else:\n",
    "        middle = 0.5 * (upper + lower)\n",
    "        print('Current mid point = {}'.format(middle))\n",
    "        if f(middle) > 0:   # Implies root is between lower and middle\n",
    "            bisect(f, lower, middle)\n",
    "        else:               # Implies root is between middle and upper\n",
    "            bisect(f, middle, upper)"
   ]
  },
  {
   "cell_type": "code",
   "execution_count": 50,
   "metadata": {},
   "outputs": [
    {
     "name": "stdout",
     "output_type": "stream",
     "text": [
      "Current mid point = 0.5\n",
      "Current mid point = 0.25\n",
      "Current mid point = 0.375\n",
      "Current mid point = 0.4375\n",
      "Current mid point = 0.40625\n",
      "Current mid point = 0.421875\n",
      "Current mid point = 0.4140625\n",
      "Current mid point = 0.41015625\n",
      "Current mid point = 0.408203125\n",
      "Current mid point = 0.4091796875\n",
      "Current mid point = 0.40869140625\n",
      "Current mid point = 0.408447265625\n",
      "Current mid point = 0.4083251953125\n",
      "Current mid point = 0.40826416015625\n"
     ]
    }
   ],
   "source": [
    "import numpy as np\n",
    "f = lambda x: np.sin(4 * (x - 0.25)) + x + x**20 - 1\n",
    "\n",
    "bisect(f, 0, 1)"
   ]
  },
  {
   "cell_type": "code",
   "execution_count": null,
   "metadata": {
    "collapsed": true
   },
   "outputs": [],
   "source": []
  }
 ],
 "metadata": {
  "kernelspec": {
   "display_name": "Python [conda env:python3]",
   "language": "python",
   "name": "conda-env-python3-py"
  },
  "language_info": {
   "codemirror_mode": {
    "name": "ipython",
    "version": 3
   },
   "file_extension": ".py",
   "mimetype": "text/x-python",
   "name": "python",
   "nbconvert_exporter": "python",
   "pygments_lexer": "ipython3",
   "version": "3.6.1"
  }
 },
 "nbformat": 4,
 "nbformat_minor": 2
}
