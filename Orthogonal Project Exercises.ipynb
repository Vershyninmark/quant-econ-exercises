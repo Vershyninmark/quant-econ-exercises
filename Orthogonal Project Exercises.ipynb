{
 "cells": [
  {
   "cell_type": "markdown",
   "metadata": {},
   "source": [
    "# My Solution to Exercise 1"
   ]
  },
  {
   "cell_type": "markdown",
   "metadata": {},
   "source": [
    "If $x \\in S$ and $x \\in S^{\\bot}$, then $<x,x>=0$, since $S$ and $S^{\\bot}$ are orthogonal complements.\n",
    "\n",
    "But $<x,x>=\\|x\\|^2$ and $\\|x\\|^2>0,\\forall x \\neq 0$.\n",
    "\n",
    "Thus, $S \\cap S^{\\bot} = \\{0\\}$."
   ]
  },
  {
   "cell_type": "markdown",
   "metadata": {},
   "source": [
    "# My Solution to Exercise 2"
   ]
  },
  {
   "cell_type": "markdown",
   "metadata": {},
   "source": [
    "__Symmetry__\n",
    "\n",
    "Let $X$ be a matrix with dimensions $m \\times n$. \n",
    "\n",
    "Then, $\\underbrace{P}_\\text{$m \\times m$} = \\underbrace{X}_\\text{$m \\times n$}\\underbrace{(X'X)^{-1}}_\\text{$n \\times n$}\\underbrace{X'}_\\text{$n \\times m$}$. Similarly, for $M = I - P$.\n",
    "\n",
    "__Idempotence__\n",
    "\n",
    "$$PP = X\\underbrace{(X'X)^{-1}X'X}_\\text{I}(X'X)^{-1}X'=X(X'X)^{-1}X'=P$$\n",
    "\n",
    "$$MM = (I-P)(I-P) = (I-P)I-(I-P)P = II - PI - IP -PP = I - P$$\n",
    "\n",
    "Intuition is that $P$ is a orthogonal projection onto the subspace $S$ so the distance is already minimized of $\\forall x \\in S$ such that $P$, also the projection operator, returns itself."
   ]
  },
  {
   "cell_type": "markdown",
   "metadata": {
    "collapsed": true
   },
   "source": [
    "# My Solution to Exercise 3"
   ]
  },
  {
   "cell_type": "markdown",
   "metadata": {},
   "source": [
    "## Implementation of Gram-Schmidt Orthogonalization Algorithm"
   ]
  },
  {
   "cell_type": "code",
   "execution_count": 1,
   "metadata": {
    "collapsed": true
   },
   "outputs": [],
   "source": [
    "import numpy as np\n",
    "\n",
    "def gram_schmidt(vec_set):\n",
    "    len(vec_set) = k\n",
    "    \n",
    "    return \"HA!\""
   ]
  },
  {
   "cell_type": "code",
   "execution_count": null,
   "metadata": {
    "collapsed": true
   },
   "outputs": [],
   "source": []
  }
 ],
 "metadata": {
  "kernelspec": {
   "display_name": "Python [conda env:python3]",
   "language": "python",
   "name": "conda-env-python3-py"
  },
  "language_info": {
   "codemirror_mode": {
    "name": "ipython",
    "version": 3
   },
   "file_extension": ".py",
   "mimetype": "text/x-python",
   "name": "python",
   "nbconvert_exporter": "python",
   "pygments_lexer": "ipython3",
   "version": "3.6.1"
  }
 },
 "nbformat": 4,
 "nbformat_minor": 2
}
