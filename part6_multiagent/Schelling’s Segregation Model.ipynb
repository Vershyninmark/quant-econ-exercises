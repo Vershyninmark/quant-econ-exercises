{
 "cells": [
  {
   "cell_type": "markdown",
   "metadata": {},
   "source": [
    "# My Solution to Exercise 1"
   ]
  },
  {
   "cell_type": "code",
   "execution_count": 1,
   "metadata": {},
   "outputs": [
    {
     "ename": "ImportError",
     "evalue": "cannot import name 'seed'",
     "output_type": "error",
     "traceback": [
      "\u001b[0;31m---------------------------------------------------------------------------\u001b[0m",
      "\u001b[0;31mImportError\u001b[0m                               Traceback (most recent call last)",
      "\u001b[0;32m<ipython-input-1-870ed9c0692d>\u001b[0m in \u001b[0;36m<module>\u001b[0;34m()\u001b[0m\n\u001b[1;32m      1\u001b[0m \u001b[0;32mimport\u001b[0m \u001b[0mnumpy\u001b[0m \u001b[0;32mas\u001b[0m \u001b[0mnp\u001b[0m\u001b[0;34m\u001b[0m\u001b[0m\n\u001b[1;32m      2\u001b[0m \u001b[0;32mfrom\u001b[0m \u001b[0mscipy\u001b[0m\u001b[0;34m.\u001b[0m\u001b[0mlinalg\u001b[0m \u001b[0;32mimport\u001b[0m \u001b[0mnorm\u001b[0m\u001b[0;34m\u001b[0m\u001b[0m\n\u001b[0;32m----> 3\u001b[0;31m \u001b[0;32mfrom\u001b[0m \u001b[0mscipy\u001b[0m\u001b[0;34m.\u001b[0m\u001b[0mstats\u001b[0m \u001b[0;32mimport\u001b[0m \u001b[0muniform\u001b[0m\u001b[0;34m,\u001b[0m \u001b[0mseed\u001b[0m\u001b[0;34m\u001b[0m\u001b[0m\n\u001b[0m\u001b[1;32m      4\u001b[0m \u001b[0;32mimport\u001b[0m \u001b[0mmatplotlib\u001b[0m\u001b[0;34m.\u001b[0m\u001b[0mpyplot\u001b[0m \u001b[0;32mas\u001b[0m \u001b[0mplt\u001b[0m\u001b[0;34m\u001b[0m\u001b[0m\n",
      "\u001b[0;31mImportError\u001b[0m: cannot import name 'seed'"
     ]
    }
   ],
   "source": [
    "import numpy as np\n",
    "from scipy.linalg import norm\n",
    "from scipy.stats import uniform\n",
    "import matplotlib.pyplot as plt"
   ]
  },
  {
   "cell_type": "code",
   "execution_count": null,
   "metadata": {},
   "outputs": [],
   "source": [
    "class Resident(object):\n",
    "    \n",
    "    def __init__(self, race, location):\n",
    "        assert race.lower() == 'orange' or race.lower() == 'green', 'invalid race entered'\n",
    "        assert type(location) is np.ndarray, 'location not entered as numpy array'\n",
    "        assert location.shape == (2,), 'coordinates of location invalid'\n",
    "        self.race = race.lower()\n",
    "        self.location = location\n",
    "\n",
    "    def __eq__(self, neighbor):\n",
    "        if self.get_race() == neighbor.get_race():\n",
    "            return True\n",
    "        else:\n",
    "            return False\n",
    "        \n",
    "    def __str__(self):\n",
    "        return 'Race: '+ self.get_race() + ', Location: ' + str(self.get_location())\n",
    "    \n",
    "    def __repr__(self):\n",
    "        return 'Resident({},{})'.format(self.get_race(), str(self.get_location()))\n",
    "        \n",
    "    def get_race(self):\n",
    "        return self.race\n",
    "    \n",
    "    def get_location(self):\n",
    "        return self.location\n",
    "\n",
    "    def set_location(self, location):\n",
    "        assert type(location) is np.ndarray, 'location not entered as numpy array'        \n",
    "        self.location = location\n",
    "\n",
    "    def get_neighbors(self, community, location):\n",
    "        assert type(community) is list, 'invalid community entered'\n",
    "        neighbor_distances = []\n",
    "        for member in community:\n",
    "            distance = norm(location - member.get_location())\n",
    "            if distance != 0:\n",
    "                neighbor_distances.append((member, distance))\n",
    "            \n",
    "        return [x[0] for x in sorted(neighbor_distances, key = lambda x: x[1])[:10]]\n",
    "    \n",
    "    def is_happy(self, community, location):\n",
    "        assert type(community) is list, 'invalid community entered'\n",
    "        \n",
    "        closest_neighbors = self.get_neighbors(community, location)\n",
    "        similar_neighbor = 0\n",
    "        \n",
    "        for neighbor in closest_neighbors:\n",
    "            if neighbor == self:\n",
    "                similar_neighbor += 1\n",
    "                \n",
    "        if similar_neighbor >= 5:\n",
    "            return True\n",
    "        else:\n",
    "            return False"
   ]
  },
  {
   "cell_type": "code",
   "execution_count": null,
   "metadata": {
    "collapsed": true
   },
   "outputs": [],
   "source": [
    "# Adapted from solution\n",
    "\n",
    "def plot_distribution(agents, cycle_num):\n",
    "    \"Plot the distribution of agents after cycle_num rounds of the loop.\"\n",
    "    x_values_0, y_values_0 = [], []\n",
    "    x_values_1, y_values_1 = [], []\n",
    "    # == Obtain locations of each type == #\n",
    "    for agent in agents:\n",
    "        x, y = agent.get_location()\n",
    "        if agent.get_race() == 'orange':\n",
    "            x_values_0.append(x)\n",
    "            y_values_0.append(y)\n",
    "        else:\n",
    "            x_values_1.append(x)\n",
    "            y_values_1.append(y)\n",
    "    fig, ax = plt.subplots(figsize=(8, 8))\n",
    "    plot_args = {'markersize' : 8, 'alpha' : 0.6}\n",
    "    ax.set_facecolor('azure')\n",
    "    ax.plot(x_values_0, y_values_0, 'o', markerfacecolor='orange',  **plot_args)\n",
    "    ax.plot(x_values_1, y_values_1, 'o', markerfacecolor='green', **plot_args)\n",
    "    ax.set_title('Cycle {}'.format(cycle_num))\n",
    "    plt.show()"
   ]
  },
  {
   "cell_type": "code",
   "execution_count": null,
   "metadata": {
    "collapsed": true
   },
   "outputs": [],
   "source": [
    "# seed(10)\n",
    "\n",
    "community = []\n",
    "cycle_num = 0\n",
    "X = uniform(loc = 0, scale = 1)\n",
    "Y = uniform(loc = 0, scale = 1)\n",
    "\n",
    "for race in ['orange', 'green']:\n",
    "    for i in range(250):\n",
    "        location = np.array([X.rvs(), Y.rvs()])\n",
    "        community.append(Resident(race, location))"
   ]
  },
  {
   "cell_type": "code",
   "execution_count": null,
   "metadata": {},
   "outputs": [],
   "source": [
    "plot_distribution(community, cycle_num)\n",
    "cycle_num += 1"
   ]
  },
  {
   "cell_type": "code",
   "execution_count": null,
   "metadata": {},
   "outputs": [],
   "source": [
    "moves = 0\n",
    "\n",
    "for person in community:\n",
    "    while not person.is_happy(community, person.get_location()):\n",
    "        new_location = np.array([X.rvs(), Y.rvs()])\n",
    "        if person.is_happy(community, new_location):\n",
    "            person.set_location(new_location)\n",
    "            moves += 1\n",
    "            \n",
    "print(moves)"
   ]
  },
  {
   "cell_type": "code",
   "execution_count": null,
   "metadata": {},
   "outputs": [],
   "source": [
    "plot_distribution(community, cycle_num)\n",
    "cycle_num += 1"
   ]
  },
  {
   "cell_type": "code",
   "execution_count": null,
   "metadata": {},
   "outputs": [],
   "source": [
    "moves = 0\n",
    "\n",
    "for person in community:\n",
    "    while not person.is_happy(community, person.get_location()):\n",
    "        new_location = np.array([X.rvs(), Y.rvs()])\n",
    "        if person.is_happy(community, new_location):\n",
    "            person.set_location(new_location)\n",
    "            moves += 1\n",
    "            \n",
    "print(moves)"
   ]
  },
  {
   "cell_type": "code",
   "execution_count": null,
   "metadata": {},
   "outputs": [],
   "source": [
    "plot_distribution(community, cycle_num)\n",
    "cycle_num += 1"
   ]
  },
  {
   "cell_type": "code",
   "execution_count": null,
   "metadata": {},
   "outputs": [],
   "source": [
    "moves = 0\n",
    "\n",
    "for person in community:\n",
    "    while not person.is_happy(community, person.get_location()):\n",
    "        new_location = np.array([X.rvs(), Y.rvs()])\n",
    "        if person.is_happy(community, new_location):\n",
    "            person.set_location(new_location)\n",
    "            moves += 1\n",
    "            \n",
    "print(moves)"
   ]
  },
  {
   "cell_type": "code",
   "execution_count": null,
   "metadata": {},
   "outputs": [],
   "source": [
    "plot_distribution(community, cycle_num)\n",
    "cycle_num += 1"
   ]
  },
  {
   "cell_type": "code",
   "execution_count": null,
   "metadata": {},
   "outputs": [],
   "source": [
    "moves = 0\n",
    "\n",
    "for person in community:\n",
    "    while not person.is_happy(community, person.get_location()):\n",
    "        new_location = np.array([X.rvs(), Y.rvs()])\n",
    "        if person.is_happy(community, new_location):\n",
    "            person.set_location(new_location)\n",
    "            moves += 1\n",
    "            \n",
    "print(moves)"
   ]
  },
  {
   "cell_type": "code",
   "execution_count": null,
   "metadata": {},
   "outputs": [],
   "source": [
    "plot_distribution(community, cycle_num)\n",
    "cycle_num += 1"
   ]
  },
  {
   "cell_type": "code",
   "execution_count": null,
   "metadata": {},
   "outputs": [],
   "source": [
    "moves = 0\n",
    "\n",
    "for person in community:\n",
    "    while not person.is_happy(community, person.get_location()):\n",
    "        new_location = np.array([X.rvs(), Y.rvs()])\n",
    "        if person.is_happy(community, new_location):\n",
    "            person.set_location(new_location)\n",
    "            moves += 1\n",
    "            \n",
    "print(moves)"
   ]
  },
  {
   "cell_type": "code",
   "execution_count": null,
   "metadata": {},
   "outputs": [],
   "source": [
    "plot_distribution(community, cycle_num)\n",
    "cycle_num += 1"
   ]
  },
  {
   "cell_type": "code",
   "execution_count": null,
   "metadata": {},
   "outputs": [],
   "source": [
    "moves = 0\n",
    "\n",
    "for person in community:\n",
    "    while not person.is_happy(community, person.get_location()):\n",
    "        new_location = np.array([X.rvs(), Y.rvs()])\n",
    "        if person.is_happy(community, new_location):\n",
    "            person.set_location(new_location)\n",
    "            moves += 1\n",
    "            \n",
    "print(moves)"
   ]
  }
 ],
 "metadata": {
  "kernelspec": {
   "display_name": "Python [conda env:python3]",
   "language": "python",
   "name": "conda-env-python3-py"
  },
  "language_info": {
   "codemirror_mode": {
    "name": "ipython",
    "version": 3
   },
   "file_extension": ".py",
   "mimetype": "text/x-python",
   "name": "python",
   "nbconvert_exporter": "python",
   "pygments_lexer": "ipython3",
   "version": "3.6.1"
  }
 },
 "nbformat": 4,
 "nbformat_minor": 2
}
