{
 "cells": [
  {
   "cell_type": "markdown",
   "metadata": {},
   "source": [
    "# My Solution to Exercise 1"
   ]
  },
  {
   "cell_type": "code",
   "execution_count": 2,
   "metadata": {
    "collapsed": true
   },
   "outputs": [],
   "source": [
    "import pandas as pd"
   ]
  },
  {
   "cell_type": "code",
   "execution_count": 1,
   "metadata": {
    "collapsed": true
   },
   "outputs": [],
   "source": [
    "data_url = 'https://lectures.quantecon.org/_downloads/ticker_data.csv'"
   ]
  },
  {
   "cell_type": "code",
   "execution_count": 3,
   "metadata": {
    "collapsed": true
   },
   "outputs": [],
   "source": [
    "data = pd.read_csv(data_url, index_col=0, parse_dates=True)"
   ]
  },
  {
   "cell_type": "code",
   "execution_count": 4,
   "metadata": {},
   "outputs": [
    {
     "data": {
      "text/html": [
       "<div>\n",
       "<style>\n",
       "    .dataframe thead tr:only-child th {\n",
       "        text-align: right;\n",
       "    }\n",
       "\n",
       "    .dataframe thead th {\n",
       "        text-align: left;\n",
       "    }\n",
       "\n",
       "    .dataframe tbody tr th {\n",
       "        vertical-align: top;\n",
       "    }\n",
       "</style>\n",
       "<table border=\"1\" class=\"dataframe\">\n",
       "  <thead>\n",
       "    <tr style=\"text-align: right;\">\n",
       "      <th></th>\n",
       "      <th>INTC</th>\n",
       "      <th>MSFT</th>\n",
       "      <th>IBM</th>\n",
       "      <th>BHP</th>\n",
       "      <th>TM</th>\n",
       "      <th>AAPL</th>\n",
       "      <th>AMZN</th>\n",
       "      <th>BA</th>\n",
       "      <th>QCOM</th>\n",
       "      <th>KO</th>\n",
       "      <th>GOOG</th>\n",
       "      <th>SNE</th>\n",
       "      <th>PTR</th>\n",
       "    </tr>\n",
       "    <tr>\n",
       "      <th>Date</th>\n",
       "      <th></th>\n",
       "      <th></th>\n",
       "      <th></th>\n",
       "      <th></th>\n",
       "      <th></th>\n",
       "      <th></th>\n",
       "      <th></th>\n",
       "      <th></th>\n",
       "      <th></th>\n",
       "      <th></th>\n",
       "      <th></th>\n",
       "      <th></th>\n",
       "      <th></th>\n",
       "    </tr>\n",
       "  </thead>\n",
       "  <tbody>\n",
       "    <tr>\n",
       "      <th>2013-01-02</th>\n",
       "      <td>21.379999</td>\n",
       "      <td>27.620001</td>\n",
       "      <td>196.350006</td>\n",
       "      <td>79.930000</td>\n",
       "      <td>95.989998</td>\n",
       "      <td>549.029976</td>\n",
       "      <td>257.309998</td>\n",
       "      <td>77.070000</td>\n",
       "      <td>64.750000</td>\n",
       "      <td>37.599998</td>\n",
       "      <td>723.251230</td>\n",
       "      <td>11.51</td>\n",
       "      <td>145.789993</td>\n",
       "    </tr>\n",
       "    <tr>\n",
       "      <th>2013-01-03</th>\n",
       "      <td>21.320000</td>\n",
       "      <td>27.250000</td>\n",
       "      <td>195.270004</td>\n",
       "      <td>79.029999</td>\n",
       "      <td>95.370003</td>\n",
       "      <td>542.099991</td>\n",
       "      <td>258.480011</td>\n",
       "      <td>77.470001</td>\n",
       "      <td>64.449997</td>\n",
       "      <td>37.599998</td>\n",
       "      <td>723.671256</td>\n",
       "      <td>11.49</td>\n",
       "      <td>145.800003</td>\n",
       "    </tr>\n",
       "    <tr>\n",
       "      <th>2013-01-04</th>\n",
       "      <td>21.160000</td>\n",
       "      <td>26.740000</td>\n",
       "      <td>193.990005</td>\n",
       "      <td>79.400002</td>\n",
       "      <td>97.339996</td>\n",
       "      <td>526.999992</td>\n",
       "      <td>259.149994</td>\n",
       "      <td>77.690002</td>\n",
       "      <td>63.500000</td>\n",
       "      <td>37.660000</td>\n",
       "      <td>737.971262</td>\n",
       "      <td>11.14</td>\n",
       "      <td>145.649994</td>\n",
       "    </tr>\n",
       "    <tr>\n",
       "      <th>2013-01-07</th>\n",
       "      <td>21.250000</td>\n",
       "      <td>26.690001</td>\n",
       "      <td>193.139999</td>\n",
       "      <td>79.680000</td>\n",
       "      <td>95.529999</td>\n",
       "      <td>523.900002</td>\n",
       "      <td>268.459991</td>\n",
       "      <td>76.129997</td>\n",
       "      <td>64.010002</td>\n",
       "      <td>37.299999</td>\n",
       "      <td>734.751286</td>\n",
       "      <td>10.97</td>\n",
       "      <td>142.919998</td>\n",
       "    </tr>\n",
       "    <tr>\n",
       "      <th>2013-01-08</th>\n",
       "      <td>21.090000</td>\n",
       "      <td>26.549999</td>\n",
       "      <td>192.869995</td>\n",
       "      <td>78.529999</td>\n",
       "      <td>93.930000</td>\n",
       "      <td>525.310020</td>\n",
       "      <td>266.380005</td>\n",
       "      <td>74.129997</td>\n",
       "      <td>63.910000</td>\n",
       "      <td>37.040001</td>\n",
       "      <td>733.301227</td>\n",
       "      <td>10.72</td>\n",
       "      <td>141.279999</td>\n",
       "    </tr>\n",
       "  </tbody>\n",
       "</table>\n",
       "</div>"
      ],
      "text/plain": [
       "                 INTC       MSFT         IBM        BHP         TM  \\\n",
       "Date                                                                 \n",
       "2013-01-02  21.379999  27.620001  196.350006  79.930000  95.989998   \n",
       "2013-01-03  21.320000  27.250000  195.270004  79.029999  95.370003   \n",
       "2013-01-04  21.160000  26.740000  193.990005  79.400002  97.339996   \n",
       "2013-01-07  21.250000  26.690001  193.139999  79.680000  95.529999   \n",
       "2013-01-08  21.090000  26.549999  192.869995  78.529999  93.930000   \n",
       "\n",
       "                  AAPL        AMZN         BA       QCOM         KO  \\\n",
       "Date                                                                  \n",
       "2013-01-02  549.029976  257.309998  77.070000  64.750000  37.599998   \n",
       "2013-01-03  542.099991  258.480011  77.470001  64.449997  37.599998   \n",
       "2013-01-04  526.999992  259.149994  77.690002  63.500000  37.660000   \n",
       "2013-01-07  523.900002  268.459991  76.129997  64.010002  37.299999   \n",
       "2013-01-08  525.310020  266.380005  74.129997  63.910000  37.040001   \n",
       "\n",
       "                  GOOG    SNE         PTR  \n",
       "Date                                       \n",
       "2013-01-02  723.251230  11.51  145.789993  \n",
       "2013-01-03  723.671256  11.49  145.800003  \n",
       "2013-01-04  737.971262  11.14  145.649994  \n",
       "2013-01-07  734.751286  10.97  142.919998  \n",
       "2013-01-08  733.301227  10.72  141.279999  "
      ]
     },
     "execution_count": 4,
     "metadata": {},
     "output_type": "execute_result"
    }
   ],
   "source": [
    "data.head()"
   ]
  },
  {
   "cell_type": "code",
   "execution_count": 5,
   "metadata": {
    "collapsed": true
   },
   "outputs": [],
   "source": [
    "ticker_list = {'INTC': 'Intel',\n",
    "               'MSFT': 'Microsoft',\n",
    "               'IBM': 'IBM',\n",
    "               'BHP': 'BHP',\n",
    "               'TM': 'Toyota',\n",
    "               'AAPL': 'Apple',\n",
    "               'AMZN': 'Amazon',\n",
    "               'BA': 'Boeing',\n",
    "               'QCOM': 'Qualcomm',\n",
    "               'KO': 'Coca-Cola',\n",
    "               'GOOG': 'Google',\n",
    "               'SNE': 'Sony',\n",
    "               'PTR': 'PetroChina'}"
   ]
  },
  {
   "cell_type": "code",
   "execution_count": 9,
   "metadata": {},
   "outputs": [],
   "source": [
    "data_sub = data[list(ticker_list.keys())]"
   ]
  },
  {
   "cell_type": "code",
   "execution_count": 10,
   "metadata": {},
   "outputs": [
    {
     "data": {
      "text/html": [
       "<div>\n",
       "<style>\n",
       "    .dataframe thead tr:only-child th {\n",
       "        text-align: right;\n",
       "    }\n",
       "\n",
       "    .dataframe thead th {\n",
       "        text-align: left;\n",
       "    }\n",
       "\n",
       "    .dataframe tbody tr th {\n",
       "        vertical-align: top;\n",
       "    }\n",
       "</style>\n",
       "<table border=\"1\" class=\"dataframe\">\n",
       "  <thead>\n",
       "    <tr style=\"text-align: right;\">\n",
       "      <th></th>\n",
       "      <th>INTC</th>\n",
       "      <th>MSFT</th>\n",
       "      <th>IBM</th>\n",
       "      <th>BHP</th>\n",
       "      <th>TM</th>\n",
       "      <th>AAPL</th>\n",
       "      <th>AMZN</th>\n",
       "      <th>BA</th>\n",
       "      <th>QCOM</th>\n",
       "      <th>KO</th>\n",
       "      <th>GOOG</th>\n",
       "      <th>SNE</th>\n",
       "      <th>PTR</th>\n",
       "    </tr>\n",
       "    <tr>\n",
       "      <th>Date</th>\n",
       "      <th></th>\n",
       "      <th></th>\n",
       "      <th></th>\n",
       "      <th></th>\n",
       "      <th></th>\n",
       "      <th></th>\n",
       "      <th></th>\n",
       "      <th></th>\n",
       "      <th></th>\n",
       "      <th></th>\n",
       "      <th></th>\n",
       "      <th></th>\n",
       "      <th></th>\n",
       "    </tr>\n",
       "  </thead>\n",
       "  <tbody>\n",
       "    <tr>\n",
       "      <th>2013-01-02</th>\n",
       "      <td>21.379999</td>\n",
       "      <td>27.620001</td>\n",
       "      <td>196.350006</td>\n",
       "      <td>79.930000</td>\n",
       "      <td>95.989998</td>\n",
       "      <td>549.029976</td>\n",
       "      <td>257.309998</td>\n",
       "      <td>77.070000</td>\n",
       "      <td>64.750000</td>\n",
       "      <td>37.599998</td>\n",
       "      <td>723.251230</td>\n",
       "      <td>11.51</td>\n",
       "      <td>145.789993</td>\n",
       "    </tr>\n",
       "    <tr>\n",
       "      <th>2013-01-03</th>\n",
       "      <td>21.320000</td>\n",
       "      <td>27.250000</td>\n",
       "      <td>195.270004</td>\n",
       "      <td>79.029999</td>\n",
       "      <td>95.370003</td>\n",
       "      <td>542.099991</td>\n",
       "      <td>258.480011</td>\n",
       "      <td>77.470001</td>\n",
       "      <td>64.449997</td>\n",
       "      <td>37.599998</td>\n",
       "      <td>723.671256</td>\n",
       "      <td>11.49</td>\n",
       "      <td>145.800003</td>\n",
       "    </tr>\n",
       "    <tr>\n",
       "      <th>2013-01-04</th>\n",
       "      <td>21.160000</td>\n",
       "      <td>26.740000</td>\n",
       "      <td>193.990005</td>\n",
       "      <td>79.400002</td>\n",
       "      <td>97.339996</td>\n",
       "      <td>526.999992</td>\n",
       "      <td>259.149994</td>\n",
       "      <td>77.690002</td>\n",
       "      <td>63.500000</td>\n",
       "      <td>37.660000</td>\n",
       "      <td>737.971262</td>\n",
       "      <td>11.14</td>\n",
       "      <td>145.649994</td>\n",
       "    </tr>\n",
       "    <tr>\n",
       "      <th>2013-01-07</th>\n",
       "      <td>21.250000</td>\n",
       "      <td>26.690001</td>\n",
       "      <td>193.139999</td>\n",
       "      <td>79.680000</td>\n",
       "      <td>95.529999</td>\n",
       "      <td>523.900002</td>\n",
       "      <td>268.459991</td>\n",
       "      <td>76.129997</td>\n",
       "      <td>64.010002</td>\n",
       "      <td>37.299999</td>\n",
       "      <td>734.751286</td>\n",
       "      <td>10.97</td>\n",
       "      <td>142.919998</td>\n",
       "    </tr>\n",
       "    <tr>\n",
       "      <th>2013-01-08</th>\n",
       "      <td>21.090000</td>\n",
       "      <td>26.549999</td>\n",
       "      <td>192.869995</td>\n",
       "      <td>78.529999</td>\n",
       "      <td>93.930000</td>\n",
       "      <td>525.310020</td>\n",
       "      <td>266.380005</td>\n",
       "      <td>74.129997</td>\n",
       "      <td>63.910000</td>\n",
       "      <td>37.040001</td>\n",
       "      <td>733.301227</td>\n",
       "      <td>10.72</td>\n",
       "      <td>141.279999</td>\n",
       "    </tr>\n",
       "  </tbody>\n",
       "</table>\n",
       "</div>"
      ],
      "text/plain": [
       "                 INTC       MSFT         IBM        BHP         TM  \\\n",
       "Date                                                                 \n",
       "2013-01-02  21.379999  27.620001  196.350006  79.930000  95.989998   \n",
       "2013-01-03  21.320000  27.250000  195.270004  79.029999  95.370003   \n",
       "2013-01-04  21.160000  26.740000  193.990005  79.400002  97.339996   \n",
       "2013-01-07  21.250000  26.690001  193.139999  79.680000  95.529999   \n",
       "2013-01-08  21.090000  26.549999  192.869995  78.529999  93.930000   \n",
       "\n",
       "                  AAPL        AMZN         BA       QCOM         KO  \\\n",
       "Date                                                                  \n",
       "2013-01-02  549.029976  257.309998  77.070000  64.750000  37.599998   \n",
       "2013-01-03  542.099991  258.480011  77.470001  64.449997  37.599998   \n",
       "2013-01-04  526.999992  259.149994  77.690002  63.500000  37.660000   \n",
       "2013-01-07  523.900002  268.459991  76.129997  64.010002  37.299999   \n",
       "2013-01-08  525.310020  266.380005  74.129997  63.910000  37.040001   \n",
       "\n",
       "                  GOOG    SNE         PTR  \n",
       "Date                                       \n",
       "2013-01-02  723.251230  11.51  145.789993  \n",
       "2013-01-03  723.671256  11.49  145.800003  \n",
       "2013-01-04  737.971262  11.14  145.649994  \n",
       "2013-01-07  734.751286  10.97  142.919998  \n",
       "2013-01-08  733.301227  10.72  141.279999  "
      ]
     },
     "execution_count": 10,
     "metadata": {},
     "output_type": "execute_result"
    }
   ],
   "source": [
    "data_sub.head()"
   ]
  },
  {
   "cell_type": "code",
   "execution_count": 19,
   "metadata": {},
   "outputs": [],
   "source": [
    "data_pct = ((data_sub['2013'].iloc[-1]/data_sub['2013'].iloc[0]-1)*100).T"
   ]
  },
  {
   "cell_type": "code",
   "execution_count": 30,
   "metadata": {},
   "outputs": [],
   "source": [
    "data_pct.index = [ticker_list[tick] for tick in list(data_pct.index)]"
   ]
  },
  {
   "cell_type": "code",
   "execution_count": 43,
   "metadata": {},
   "outputs": [
    {
     "data": {
      "image/png": "[encoded data removed]",
      "text/plain": [
       "<matplotlib.figure.Figure at 0x10fa32c88>"
      ]
     },
     "metadata": {},
     "output_type": "display_data"
    }
   ],
   "source": [
    "import matplotlib.pyplot as plt\n",
    "\n",
    "data_pct.sort_values().plot(kind='bar')\n",
    "plt.show()"
   ]
  },
  {
   "cell_type": "markdown",
   "metadata": {},
   "source": [
    "# Text Solution to Exercise 1"
   ]
  },
  {
   "cell_type": "code",
   "execution_count": 44,
   "metadata": {},
   "outputs": [
    {
     "data": {
      "image/png": "[encoded data removed]",
      "text/plain": [
       "<matplotlib.figure.Figure at 0x10f8606a0>"
      ]
     },
     "metadata": {},
     "output_type": "display_data"
    }
   ],
   "source": [
    "ticker = pd.read_csv('https://github.com/QuantEcon/QuantEcon.lectures.code/raw/master/pandas/data/ticker_data.csv')\n",
    "ticker.set_index('Date', inplace=True)\n",
    "\n",
    "ticker_list = {'INTC': 'Intel',\n",
    "               'MSFT': 'Microsoft',\n",
    "               'IBM': 'IBM',\n",
    "               'BHP': 'BHP',\n",
    "               'TM': 'Toyota',\n",
    "               'AAPL': 'Apple',\n",
    "               'AMZN': 'Amazon',\n",
    "               'BA': 'Boeing',\n",
    "               'QCOM': 'Qualcomm',\n",
    "               'KO': 'Coca-Cola',\n",
    "               'GOOG': 'Google',\n",
    "               'SNE': 'Sony',\n",
    "               'PTR': 'PetroChina'}\n",
    "\n",
    "price_change = {}\n",
    "\n",
    "for tick in ticker_list:\n",
    "    change = 100 * (ticker.loc[ticker.index[-1],tick] - ticker.loc[ticker.index[0],tick]) / ticker.loc[ticker.index[0],tick]\n",
    "    name = ticker_list[tick]\n",
    "    price_change[name] = change\n",
    "\n",
    "pc = pd.Series(price_change)\n",
    "pc.sort_values(inplace=True)\n",
    "fig, ax = plt.subplots(figsize=(10,8))\n",
    "pc.plot(kind='bar', ax=ax)\n",
    "plt.show()"
   ]
  }
 ],
 "metadata": {
  "kernelspec": {
   "display_name": "Python [conda env:python3]",
   "language": "python",
   "name": "conda-env-python3-py"
  },
  "language_info": {
   "codemirror_mode": {
    "name": "ipython",
    "version": 3
   },
   "file_extension": ".py",
   "mimetype": "text/x-python",
   "name": "python",
   "nbconvert_exporter": "python",
   "pygments_lexer": "ipython3",
   "version": "3.6.1"
  }
 },
 "nbformat": 4,
 "nbformat_minor": 2
}
